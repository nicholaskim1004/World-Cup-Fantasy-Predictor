{
 "cells": [
  {
   "cell_type": "markdown",
   "id": "b5204257",
   "metadata": {},
   "source": [
    "## Web Scraper"
   ]
  },
  {
   "cell_type": "code",
   "execution_count": 1,
   "id": "5b130018",
   "metadata": {},
   "outputs": [],
   "source": [
    "import cloudscraper\n",
    "from bs4 import BeautifulSoup"
   ]
  },
  {
   "cell_type": "markdown",
   "id": "5f217d1f",
   "metadata": {},
   "source": [
    "Testing on one link before trying to implement a function and apply to all countries of interest"
   ]
  },
  {
   "cell_type": "code",
   "execution_count": 2,
   "id": "2da39f32",
   "metadata": {},
   "outputs": [],
   "source": [
    "scraper = cloudscraper.create_scraper()  \n",
    "r = scraper.get(\"https://fbref.com/en/matches/b9e2f869/Morocco-Brazil-March-25-2023-Friendlies-M\")\n",
    "soup = BeautifulSoup(r.text, \"html.parser\")\n",
    "#print(soup.prettify())"
   ]
  },
  {
   "cell_type": "code",
   "execution_count": 3,
   "id": "16f2b9b5",
   "metadata": {},
   "outputs": [
    {
     "name": "stdout",
     "output_type": "stream",
     "text": [
      "index 0    |  Rony           |  player\n",
      "index 1    |  22             |  shirtnumber\n",
      "index 2    |  FW             |  position\n",
      "index 3    |  27-318         |  age\n",
      "index 4    |  63             |  minutes\n",
      "index 5    |  0              |  goals\n",
      "index 6    |  0              |  assists\n",
      "index 7    |  0              |  pens_made\n",
      "index 8    |  0              |  pens_att\n",
      "index 9    |                 |  shots\n",
      "index 10   |                 |  shots_on_target\n",
      "index 11   |  1              |  cards_yellow\n",
      "index 12   |  0              |  cards_red\n",
      "index 13   |                 |  fouls\n",
      "index 14   |                 |  fouled\n",
      "index 15   |                 |  offsides\n",
      "index 16   |                 |  crosses\n",
      "index 17   |                 |  tackles_won\n",
      "index 18   |                 |  interceptions\n",
      "index 19   |  0              |  own_goals\n",
      "index 20   |                 |  pens_won\n",
      "index 21   |                 |  pens_conceded\n"
     ]
    }
   ],
   "source": [
    "table = soup.find('div', attrs = {'id' : 'div_stats_304635c3_summary'}).find('table').find('tbody')\n",
    "rows = table.find_all('tr')\n",
    "\n",
    "# Example to display column elements more clearly\n",
    "ex_row = rows[0]\n",
    "for col in ex_row:\n",
    "    ind = ex_row.index(col)\n",
    "    print('index', ind, ' ' * (2-len(str(ind))), ' | ', col.text, ' ' * (12-len(col.text)), ' | ', col.get('data-stat'))"
   ]
  },
  {
   "cell_type": "markdown",
   "id": "de0a8d56",
   "metadata": {},
   "source": [
    "Finding captincy"
   ]
  },
  {
   "cell_type": "code",
   "execution_count": 4,
   "id": "eb894bca",
   "metadata": {},
   "outputs": [],
   "source": [
    "manager_n_cap = soup.find_all('div', attrs = {'class': 'datapoint'})\n",
    "cap_name = [manager_n_cap[i].find('a').text for i in [1,3]]"
   ]
  },
  {
   "cell_type": "markdown",
   "id": "9eecfc92",
   "metadata": {},
   "source": [
    "Collect player data for all positions. Save data is stored in a different table. Will pull necessary data from that table if the position is for GK. Otherwise, will just fill the last col data with NA"
   ]
  },
  {
   "cell_type": "code",
   "execution_count": 5,
   "id": "b82f5526",
   "metadata": {},
   "outputs": [],
   "source": [
    "goalie_table = soup.find('div', attrs = {'id': 'div_keeper_stats_304635c3'}).find('table').find('tbody')\n",
    "\n",
    "goal_rows = goalie_table.find_all('tr')\n",
    "\n",
    "brazil_dat = []\n",
    "for row in rows:\n",
    "  name_col = row.find_all('th')\n",
    "  stat_col = row.find_all('td')\n",
    "  if len(name_col) > 0:\n",
    "      name = name_col[0].text.strip()\n",
    "\n",
    "      position = stat_col[1].text\n",
    "      mins = stat_col[3].text\n",
    "      goals = stat_col[4].text\n",
    "      assists = stat_col[5].text\n",
    "      pens_made = stat_col[6].text\n",
    "      pens_att = stat_col[7].text\n",
    "      shots = stat_col[8].text\n",
    "      shots_on_tar = stat_col[9].text\n",
    "      yellow_cards = stat_col[10].text\n",
    "      red_cards = stat_col[11].text\n",
    "      \n",
    "      if position == 'GK':\n",
    "        for r in goal_rows:\n",
    "          goal_stat = r.find_all('td')\n",
    "          if len(stat_col) > 0:\n",
    "            goal_against = goal_stat[3].text\n",
    "            saves = goal_stat[4].text\n",
    "            save_per = goal_stat[5].text\n",
    "      else:\n",
    "        goal_against = 'NA'\n",
    "        saves = 'NA'\n",
    "        save_per = 'NA'\n",
    "      \n",
    "      if name in cap_name:\n",
    "        is_cap = 1\n",
    "      else:\n",
    "        is_cap = 0\n",
    "\n",
    "\n",
    "      \n",
    "  brazil_dat.append([name,mins,position,goals,assists,pens_made,pens_att,shots,shots_on_tar,yellow_cards,red_cards,goal_against,saves,save_per,is_cap])"
   ]
  },
  {
   "cell_type": "code",
   "execution_count": 6,
   "id": "41f8e02c",
   "metadata": {},
   "outputs": [
    {
     "data": {
      "text/plain": [
       "['Wéverton', '90', 'GK', '0', '0', '0', '0', '', '', '0', '0', '2', '', '', 0]"
      ]
     },
     "execution_count": 6,
     "metadata": {},
     "output_type": "execute_result"
    }
   ],
   "source": [
    "brazil_dat[-1]"
   ]
  }
 ],
 "metadata": {
  "kernelspec": {
   "display_name": "base",
   "language": "python",
   "name": "python3"
  },
  "language_info": {
   "codemirror_mode": {
    "name": "ipython",
    "version": 3
   },
   "file_extension": ".py",
   "mimetype": "text/x-python",
   "name": "python",
   "nbconvert_exporter": "python",
   "pygments_lexer": "ipython3",
   "version": "3.12.4"
  }
 },
 "nbformat": 4,
 "nbformat_minor": 5
}
